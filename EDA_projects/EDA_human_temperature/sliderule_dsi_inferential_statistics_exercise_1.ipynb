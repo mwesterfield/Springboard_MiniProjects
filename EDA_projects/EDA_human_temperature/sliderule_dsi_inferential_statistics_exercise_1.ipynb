{
 "cells": [
  {
   "cell_type": "markdown",
   "metadata": {},
   "source": [
    "# What is the True Normal Human Body Temperature? \n",
    "\n",
    "#### Background\n",
    "\n",
    "The mean normal body temperature was held to be 37$^{\\circ}$C or 98.6$^{\\circ}$F for more than 120 years since it was first conceptualized and reported by Carl Wunderlich in a famous 1868 book. But, is this value statistically correct?"
   ]
  },
  {
   "cell_type": "markdown",
   "metadata": {},
   "source": [
    "<h3>Exercises</h3>\n",
    "\n",
    "<p>In this exercise, you will analyze a dataset of human body temperatures and employ the concepts of hypothesis testing, confidence intervals, and statistical significance.</p>\n",
    "\n",
    "<p>Answer the following questions <b>in this notebook below and submit to your Github account</b>.</p> \n",
    "\n",
    "<ol>\n",
    "<li>  Is the distribution of body temperatures normal? \n",
    "    <ul>\n",
    "    <li> Although this is not a requirement for the Central Limit Theorem to hold (read the introduction on Wikipedia's page about the CLT carefully: https://en.wikipedia.org/wiki/Central_limit_theorem), it gives us some peace of mind that the population may also be normally distributed if we assume that this sample is representative of the population.\n",
    "    <li> Think about the way you're going to check for the normality of the distribution. Graphical methods are usually used first, but there are also other ways: https://en.wikipedia.org/wiki/Normality_test\n",
    "    </ul>\n",
    "<li>  Is the sample size large? Are the observations independent?\n",
    "    <ul>\n",
    "    <li> Remember that this is a condition for the Central Limit Theorem, and hence the statistical tests we are using, to apply.\n",
    "    </ul>\n",
    "<li>  Is the true population mean really 98.6 degrees F?\n",
    "    <ul>\n",
    "    <li> First, try a bootstrap hypothesis test.\n",
    "    <li> Now, let's try frequentist statistical testing. Would you use a one-sample or two-sample test? Why?\n",
    "    <li> In this situation, is it appropriate to use the $t$ or $z$ statistic? \n",
    "    <li> Now try using the other test. How is the result be different? Why?\n",
    "    </ul>\n",
    "<li>  Draw a small sample of size 10 from the data and repeat both frequentist tests. \n",
    "    <ul>\n",
    "    <li> Which one is the correct one to use? \n",
    "    <li> What do you notice? What does this tell you about the difference in application of the $t$ and $z$ statistic?\n",
    "    </ul>\n",
    "<li>  At what temperature should we consider someone's temperature to be \"abnormal\"?\n",
    "    <ul>\n",
    "    <li> As in the previous example, try calculating everything using the boostrap approach, as well as the frequentist approach.\n",
    "    <li> Start by computing the margin of error and confidence interval. When calculating the confidence interval, keep in mind that you should use the appropriate formula for one draw, and not N draws.\n",
    "    </ul>\n",
    "<li>  Is there a significant difference between males and females in normal temperature?\n",
    "    <ul>\n",
    "    <li> What testing approach did you use and why?\n",
    "    <li> Write a story with your conclusion in the context of the original problem.\n",
    "    </ul>\n",
    "</ol>\n",
    "\n",
    "You can include written notes in notebook cells using Markdown: \n",
    "   - In the control panel at the top, choose Cell > Cell Type > Markdown\n",
    "   - Markdown syntax: http://nestacms.com/docs/creating-content/markdown-cheat-sheet\n",
    "\n",
    "#### Resources\n",
    "\n",
    "+ Information and data sources: http://www.amstat.org/publications/jse/datasets/normtemp.txt, http://www.amstat.org/publications/jse/jse_data_archive.htm\n",
    "+ Markdown syntax: http://nestacms.com/docs/creating-content/markdown-cheat-sheet\n",
    "\n",
    "****"
   ]
  },
  {
   "cell_type": "code",
   "execution_count": 1,
   "metadata": {},
   "outputs": [],
   "source": [
    "import pandas as pd\n",
    "\n",
    "df = pd.read_csv('data/human_body_temperature.csv')"
   ]
  },
  {
   "cell_type": "code",
   "execution_count": 2,
   "metadata": {},
   "outputs": [],
   "source": [
    "# Your work here."
   ]
  },
  {
   "cell_type": "markdown",
   "metadata": {},
   "source": [
    "### Import necessary libraries"
   ]
  },
  {
   "cell_type": "code",
   "execution_count": 3,
   "metadata": {},
   "outputs": [],
   "source": [
    "import numpy as np\n",
    "import matplotlib.pyplot as plt\n",
    "import seaborn as sns\n",
    "from scipy import stats\n",
    "\n",
    "# Set default Seaborn style (for prettier plots)\n",
    "sns.set()\n",
    "\n",
    "# Set random seed\n",
    "np.random.seed(19)"
   ]
  },
  {
   "cell_type": "markdown",
   "metadata": {},
   "source": [
    "### Plotting and bootstrapping functions\n",
    "This section contains several functions (from DataCamp's \"Statistical Thinking in Python\" course) that are useful for plotting and for bootstrap tests"
   ]
  },
  {
   "cell_type": "code",
   "execution_count": 4,
   "metadata": {},
   "outputs": [],
   "source": [
    "# Empirical cumulative distribution function (ECDF)\n",
    "def ecdf(data):\n",
    "    \"\"\"Compute ECDF for a one-dimensional array of measurements\"\"\"\n",
    "    # Number of data points: n\n",
    "    n = len(data)\n",
    "    \n",
    "    # x-data for the ECDF: x\n",
    "    x = np.sort(data)\n",
    "    \n",
    "    # y-data for the ECDF: y\n",
    "    y = np.arange(1, n+1) / n\n",
    "    \n",
    "    return x, y"
   ]
  },
  {
   "cell_type": "code",
   "execution_count": 5,
   "metadata": {},
   "outputs": [],
   "source": [
    "# bootstrap replicate function (for 1-dimensional arrays)\n",
    "def bootstrap_replicate_1d(data, func):\n",
    "    \"\"\"Generate bootstrap replicate of 1D data.\"\"\"\n",
    "    bs_sample = np.random.choice(data, len(data))\n",
    "    return func(bs_sample)"
   ]
  },
  {
   "cell_type": "code",
   "execution_count": 6,
   "metadata": {},
   "outputs": [],
   "source": [
    "# Many bootstrap relicate functions\n",
    "def draw_bs_reps(data, func, size=1):\n",
    "    \"\"\"Draw bootstrap replicates.\"\"\"\n",
    "    \n",
    "    # Initialize array of replicates: bs_replicates\n",
    "    bs_replicates = np.empty(size)\n",
    "    \n",
    "    # Generate replicates\n",
    "    for i in range(size):\n",
    "        bs_replicates[i] = bootstrap_replicate_1d(data, func)\n",
    "    \n",
    "    return bs_replicates"
   ]
  },
  {
   "cell_type": "code",
   "execution_count": 7,
   "metadata": {},
   "outputs": [],
   "source": [
    "# Function to do pairs bootstrapping and return *single* statistic from passed function\n",
    "def draw_bs_pairs(x, y, func, size=1):\n",
    "    \"\"\"Perform pairs bootstrap for a single statistic.\"\"\"\n",
    "\n",
    "    # Set up array of indices to sample from: inds\n",
    "    inds = np.arange(len(x))\n",
    "\n",
    "    # Initialize replicates: bs_replicates\n",
    "    bs_replicates = np.empty(size)\n",
    "\n",
    "    # Generate replicates\n",
    "    for i in range(size):\n",
    "        bs_inds = np.random.choice(inds, size=len(inds))\n",
    "        bs_x, bs_y = x[bs_inds],y[bs_inds]\n",
    "        bs_replicates[i] = func(bs_x, bs_y)\n",
    "\n",
    "    return bs_replicates"
   ]
  },
  {
   "cell_type": "markdown",
   "metadata": {},
   "source": [
    "### Q1. Is the distribution of body temperatures normal?\n",
    "As a first pass, we'll do a visual inspection of the data. A histogram plot of the data is shown in Figure 1 (left) below, and the empirical cumulative distribution function is shown on the right. The mean temperature (98.2 F) is marked with a black line on both plots. The data appears to be largely normally distributed, although skewed left somewhat."
   ]
  },
  {
   "cell_type": "code",
   "execution_count": 8,
   "metadata": {},
   "outputs": [
    {
     "data": {
      "image/png": "[encoded data removed]",
      "text/plain": [
       "<Figure size 432x288 with 2 Axes>"
      ]
     },
     "metadata": {},
     "output_type": "display_data"
    }
   ],
   "source": [
    "# (See text above for discussion)\n",
    "# plot histogram of body temps\n",
    "f, axes = plt.subplots(1, 2)\n",
    "axes[0].hist(df.temperature, bins=int(np.floor(np.sqrt(len(df.temperature)))), density=True)\n",
    "_ = plt.axvline(x=np.mean(df.temperature), color='k')\n",
    "axes[0].axvline(x=np.mean(df.temperature), color='k')\n",
    "#axes[0].axvline(x=98.6, color='r')\n",
    "axes[0].set_xlabel('Temperature (F)')\n",
    "axes[0].set_ylabel('Frequency density')\n",
    "\n",
    "# plot ECDF of body temps\n",
    "x_temp, y_temp = ecdf(df.temperature)\n",
    "axes[1].plot(x_temp, y_temp, marker='.', linestyle='none')\n",
    "axes[1].axvline(x=np.mean(df.temperature), color='k')\n",
    "#axes[1].axvline(x=98.6, color='r')\n",
    "axes[1].set_xlabel('Temperature (F)')\n",
    "axes[1].set_ylabel('ECDF')\n",
    "\n",
    "plt.text(x=0.05, y=0.95, s=\"Figure 1\\n\", fontsize=14, fontweight='bold', transform=f.transFigure)\n",
    "f.suptitle('Distribution of Body Temperature Measurements (n=130)')\n",
    "plt.tight_layout()"
   ]
  },
  {
   "cell_type": "markdown",
   "metadata": {},
   "source": [
    "We can do a \"back-of-the-envelope\" test to do a quick (but not definitive) normality check (see below). This entails calculating the z-score of the minimum and minimum values in the sample. If either value is >= 3 sample standard deviations away from the sample mean, the sample may *not* be normally distrubuted. In this case, the maximum temperature (100.8 F) is 3.48 sample standard deviations from the mean, which indicates that we should take a closer look."
   ]
  },
  {
   "cell_type": "code",
   "execution_count": 9,
   "metadata": {},
   "outputs": [
    {
     "name": "stdout",
     "output_type": "stream",
     "text": [
      "Mean:  98.25  Sample standard deviation:  0.73\n",
      "The min temp is 96.3 and is -2.66 standard deviations from the mean\n",
      "The max temp is 100.8 and is 3.48 standard deviations from the mean\n"
     ]
    }
   ],
   "source": [
    "samp_min = df.temperature.min()\n",
    "samp_max = df.temperature.max()\n",
    "samp_mean = np.mean(df.temperature)\n",
    "samp_std = np.std(df.temperature, ddof=1)  # ddof=1 because this is the sample std, not the pop std\n",
    "\n",
    "z_min = (samp_min - samp_mean) / (samp_std)\n",
    "z_max = (samp_max - samp_mean) / (samp_std)\n",
    "\n",
    "print('Mean: ', round(samp_mean, 2), ' Sample standard deviation: ', round(samp_std, 2))\n",
    "print('The min temp is', samp_min,'and is', round(z_min, 2), 'standard deviations from the mean')\n",
    "print('The max temp is', samp_max, 'and is', round(z_max, 2), 'standard deviations from the mean')"
   ]
  },
  {
   "cell_type": "markdown",
   "metadata": {},
   "source": [
    "A normal probability plot can provide more evidence for the normality of our sample distribution (see Figure 2 below). Here we plot the (sorted) temperature values against the *expected* z-score of those values if they did actually come from a normal distribution. This plot should be approximately linear, and we can test that linearity by seeing if the correlation coefficient between the observed values and the expected z-scores exceeds a certain threshold. In this case, the critical value (for n > 30) is 0.960. The actual correlation coefficient is 0.992, which is > 0.960, so we can conclude that the distribution is approximately normal."
   ]
  },
  {
   "cell_type": "code",
   "execution_count": 10,
   "metadata": {},
   "outputs": [
    {
     "data": {
      "image/png": "[encoded data removed]",
      "text/plain": [
       "<Figure size 432x288 with 1 Axes>"
      ]
     },
     "metadata": {},
     "output_type": "display_data"
    },
    {
     "name": "stdout",
     "output_type": "stream",
     "text": [
      "The correlation coefficient r =  0.992\n"
     ]
    }
   ],
   "source": [
    "line, r = stats.probplot(df.temperature, plot=plt, fit=True)\n",
    "plt.title('Figure 2', loc='left', fontsize=14, fontweight='bold') \n",
    "plt.show()\n",
    "print('The correlation coefficient r = ', round(r[2], 3))"
   ]
  },
  {
   "cell_type": "markdown",
   "metadata": {},
   "source": [
    "### Q2. Is the sample size large? Are the observations independent?\n",
    "The rule of thumb for the Central Limit Theorem is that for unknown (or not normal) population distributions, the distribution of the sample mean will be approximately normal if the sample size is greater than or equal to 30. There are 130 observations in this sample, which is 'large' enough to assume a normal sample mean distribution.\n",
    "\n",
    "The original study recruited 148 subjects from inpatient vaccine trials over a period of five years. Between 1-4 temperature measures per subject were taken daily, during a 2.5 day baseline period. There's no reason to believe that any of these measurements were influenced by any others, so yes, the observations are independent."
   ]
  },
  {
   "cell_type": "markdown",
   "metadata": {},
   "source": [
    "### Q3. Is the true population mean really 98.6 degrees F?"
   ]
  },
  {
   "cell_type": "markdown",
   "metadata": {},
   "source": [
    "The mean temperature from this sample (98.2) is lower than the 98.6 degrees historically considered the population mean. Using a bootstrap approach to test whether it is likely that this sample came from a population that *does* have a mean of 98.6 follows these steps\n",
    "\n",
    "- Shift the sample values so that the sample mean is 98.6\n",
    "- Take many (i.e., 10,000) replicates of the translated dataset, calculate the mean of each replicate\n",
    "- Find the probability that we would have observed a mean temperature equal to or lower than our empirical mean\n",
    "\n",
    "In this case, the probability of observing a mean less than or equal to our empirical mean was 0.0 -- out of 10,000 replications, there were *no* means that low. If we believe that our sample data is representative of the actual population, we have reason to doubt that the true population mean is 98.6 F."
   ]
  },
  {
   "cell_type": "code",
   "execution_count": 11,
   "metadata": {},
   "outputs": [
    {
     "name": "stdout",
     "output_type": "stream",
     "text": [
      "p =  0.0\n",
      "Number of observations <= empirical mean: 0\n"
     ]
    }
   ],
   "source": [
    "# First translate the measured temperature values so they have a mean of 98.6\n",
    "translated_temps = df.temperature + 98.6 - np.mean(df.temperature)\n",
    "\n",
    "# Take 10,000 bootstrap replicates of the translated temperatures: bs_replicates\n",
    "bs_replicates = draw_bs_reps(translated_temps, np.mean, size=10000)\n",
    "\n",
    "# Compute fraction of replicates that are less than the observed temperatures: p\n",
    "p = np.sum(bs_replicates <= np.mean(df.temperature)) / len(bs_replicates)\n",
    "\n",
    "# Print the p-value\n",
    "print('p = ',p)\n",
    "print('Number of observations <= empirical mean:', np.sum(bs_replicates <= np.mean(df.temperature)))"
   ]
  },
  {
   "cell_type": "markdown",
   "metadata": {},
   "source": [
    "A frequentist approach would use a one-sample test because while we have observations from one sample, we only have the historic population mean (with none of those original observations). Although the t statistic is the more appropriate choice, we *could* get away with using the z statistic here because because the z-score is normally distributed when the sample size is large enough. No matter which statistic is used, as in the previous bootstrap analysis, the p-value is close to 0.0 (see below) because of the large sample size. "
   ]
  },
  {
   "cell_type": "code",
   "execution_count": 12,
   "metadata": {},
   "outputs": [
    {
     "name": "stdout",
     "output_type": "stream",
     "text": [
      "pval (t): 0.0 pval (z) 0.0\n"
     ]
    }
   ],
   "source": [
    "# Calculate the test statistic\n",
    "samp_mean = np.mean(df.temperature)\n",
    "samp_std = np.std(df.temperature, ddof=1)  # ddof=1 because this is the sample std\n",
    "n = len(df.temperature)\n",
    "test_stat = (samp_mean - 98.6)/(samp_std/np.sqrt(n))\n",
    "\n",
    "# Find the p-value from the t distribution\n",
    "pval_t = 1 - stats.t.sf(test_stat, n-1) # subtract from 1 for area in right tail\n",
    "\n",
    "# Find the p-value from the z distribution\n",
    "pval_z = stats.norm.cdf(test_stat)\n",
    "\n",
    "print('pval (t):', round(pval_t, 3), 'pval (z)', round(pval_z,3))"
   ]
  },
  {
   "cell_type": "markdown",
   "metadata": {},
   "source": [
    "### Q4. What happens with sample size n=10?\n",
    "This time the p-value from the t and z distributions are not equal. With small sample sizes (such as n=10), the z-score is *not* normally distributed, so is not an appropriate test. In addition, in this particular random sample of n=10, the sample standard deviation is larger, and the sample mean is not significantly different from the historical mean of 98.6 F. "
   ]
  },
  {
   "cell_type": "code",
   "execution_count": 13,
   "metadata": {},
   "outputs": [
    {
     "name": "stdout",
     "output_type": "stream",
     "text": [
      "Mean:  98.32  Std:  0.644\n",
      "Test statistic: -1.37\n",
      "pval (t): 0.101 pval (z) 0.085\n"
     ]
    }
   ],
   "source": [
    "# Random draw of n=10\n",
    "samp_n10 = np.random.choice(df.temperature, size=10)\n",
    "n = 10\n",
    "\n",
    "# Calculate the statistic to test\n",
    "samp_n10_mean = np.mean(samp_n10)\n",
    "samp_n10_std = np.std(samp_n10, ddof=1)  # ddof=1 to get the sample std rather than pop std\n",
    "test_stat = (samp_n10_mean - 98.6)/(samp_n10_std/np.sqrt(n))\n",
    "\n",
    "print('Mean: ', round(samp_n10_mean, 2), ' Std: ', round(samp_n10_std, 3))\n",
    "print('Test statistic:', round(test_stat, 2))\n",
    "\n",
    "pval_t = 1- stats.t.sf(test_stat, n-1) # subtract from 1 for area in right tail\n",
    "pval_z = stats.norm.cdf(test_stat)\n",
    "print('pval (t):', round(pval_t, 3), 'pval (z)', round(pval_z,3))"
   ]
  },
  {
   "cell_type": "markdown",
   "metadata": {},
   "source": [
    "### Q5. At what temperature should we consider someone's temperature to be abnormal?"
   ]
  },
  {
   "cell_type": "markdown",
   "metadata": {},
   "source": [
    "I will preface this section by saying that I'm not entirely sure this is correct. On the one hand, I get basically identical answers from the bootstrap approach and the frequentist approach (in separate sections below). On the other hand, the confidence interval seems *very* narrow, and I know that's solely due to the large sample size. The lower and upper bounds of the 99% confidence interval are marked by black lines over the ECDF plot (Figure 3 below), and in the sample data only 15 (out of 130!) observations would be considered 'normal.' That seems implausible? (NOTE: I used a 99% C.I. simply because the 95% C.I. was even narrower)"
   ]
  },
  {
   "cell_type": "code",
   "execution_count": 14,
   "metadata": {},
   "outputs": [
    {
     "data": {
      "image/png": "[encoded data removed]",
      "text/plain": [
       "<Figure size 432x288 with 1 Axes>"
      ]
     },
     "metadata": {},
     "output_type": "display_data"
    }
   ],
   "source": [
    "x, y = ecdf(df.temperature)\n",
    "_ = plt.plot(x,y,marker='.', linestyle='none')\n",
    "_ = plt.axvline(x=98.082, color='k')\n",
    "_ = plt.axvline(x=98.416, color='k')\n",
    "_ = plt.xlabel('Temperature (F)')\n",
    "_ = plt.ylabel('ECDF')\n",
    "_ = plt.title('Figure 3', loc='left', fontsize=14, fontweight='bold') "
   ]
  },
  {
   "cell_type": "markdown",
   "metadata": {},
   "source": [
    "The bootstrapping procedure follows these steps (see below):\n",
    "\n",
    "- Draw a random sample (n=130 with replacement) from the original sample\n",
    "- Calculate and store the margin of error (for a 99% confidence interval) from that single random sample\n",
    "- Repeat for many (10,000) random samples\n",
    "- The mean of the bootstrap replicates is the mean margin of error\n",
    "\n",
    "The 99% confidence interval is 98.25° ± 0.17°, so a temperature lower than 98.08° or higher than 98.42° could be considered abnormal"
   ]
  },
  {
   "cell_type": "code",
   "execution_count": 21,
   "metadata": {},
   "outputs": [
    {
     "name": "stdout",
     "output_type": "stream",
     "text": [
      "Mean MoE: 0.126\n",
      "Lower bound: 98.123  Upper bound: 98.376\n"
     ]
    }
   ],
   "source": [
    "# function to calculate margin of error (for 99% confidence interval)\n",
    "def margin_of_error(bs_sample):\n",
    "    \"Calculate margin of error (MoE) from a single bootstrap replicate sample.\"\"\"\n",
    "    bs_std = np.std(bs_sample, ddof=1)\n",
    "    n = len(bs_sample)\n",
    "    t_val = stats.t.ppf(1-0.025, n-1)\n",
    "    MoE = t_val * (bs_std/np.sqrt(n))\n",
    "    return MoE\n",
    "\n",
    "# Get many (10,000) bootstrap replicates of the margin of error of our sample dataset\n",
    "bs_replicates = draw_bs_reps(df.temperature, margin_of_error, size=10000)\n",
    "\n",
    "# Print MoE and C.I.\n",
    "print('Mean MoE:', round(np.mean(bs_replicates), 3))\n",
    "print('Lower bound:', round(np.mean(df.temperature) - np.mean(bs_replicates), 3), \\\n",
    "      ' Upper bound:', round(np.mean(df.temperature) + np.mean(bs_replicates), 3))"
   ]
  },
  {
   "cell_type": "markdown",
   "metadata": {},
   "source": [
    "The frequentist approach yields the same values for a 99% confidence interval and related margin of error (see below).\n",
    "The 99% confidence interval is 98.25° ± 0.17°, so a temperature lower than 98.08° or higher than 98.42° could be considered abnormal"
   ]
  },
  {
   "cell_type": "code",
   "execution_count": 22,
   "metadata": {},
   "outputs": [
    {
     "name": "stdout",
     "output_type": "stream",
     "text": [
      "Mean:  98.249  Std: 0.733\n",
      "t-val:  1.98\n",
      "Margin of Error:  0.127\n",
      "Lower bound:  98.122  Upper bound:  98.376\n"
     ]
    }
   ],
   "source": [
    "# lower bound: samp_mean - t(0.025) * (samp_std / sqrt(n)), (n-1) degrees of freedom\n",
    "# upper bound: samp_mean + t(0.025) * (samp_std / sqrt(n)), (n-1) degrees of freedom\n",
    "samp_mean = np.mean(df.temperature)\n",
    "samp_std = np.std(df.temperature, ddof=1)\n",
    "n = len(df.temperature)\n",
    "\n",
    "t_val = stats.t.ppf(1-0.025, n-1)\n",
    "MoE = t_val * (samp_std/np.sqrt(n))\n",
    "\n",
    "print('Mean: ', round(samp_mean, 3), ' Std:', round(samp_std, 3))\n",
    "print('t-val: ', round(t_val, 2))\n",
    "print('Margin of Error: ', round(MoE, 3))\n",
    "print('Lower bound: ', round(samp_mean - MoE, 3), \\\n",
    "      ' Upper bound: ', round(samp_mean + MoE, 3))\n"
   ]
  },
  {
   "cell_type": "markdown",
   "metadata": {},
   "source": [
    "### 6. Is there a significant difference between male and female body temperature?"
   ]
  },
  {
   "cell_type": "markdown",
   "metadata": {},
   "source": [
    "First let's look at the distrubution of the two temperature samples. Male temperatures are plotted in blue and females in orange (see Figure 4, below). The solid lines mark the mean for each sample. It appears that the female temperatures (mean=98.4) are higher than the male temperatures (mean=98.1)."
   ]
  },
  {
   "cell_type": "code",
   "execution_count": 18,
   "metadata": {},
   "outputs": [
    {
     "data": {
      "image/png": "[encoded data removed]",
      "text/plain": [
       "<Figure size 432x288 with 1 Axes>"
      ]
     },
     "metadata": {},
     "output_type": "display_data"
    }
   ],
   "source": [
    "x_male, y_male = ecdf(df[df.gender=='M'].temperature)\n",
    "x_female, y_female = ecdf(df[df.gender=='F'].temperature)\n",
    "_ = plt.plot(x_male, y_male, marker='.', linestyle='none')\n",
    "_ = plt.axvline(np.mean(df[df.gender=='M'].temperature), color='blue')\n",
    "_ = plt.plot(x_female, y_female, marker='.', linestyle='none')\n",
    "_ = plt.axvline(np.mean(df[df.gender=='F'].temperature), color='orange')\n",
    "_ = plt.xlabel('Temperature (F)')\n",
    "_ = plt.ylabel('ECDF')\n",
    "_ = plt.title('Figure 4', loc='left', fontsize=14, fontweight='bold') "
   ]
  },
  {
   "cell_type": "markdown",
   "metadata": {},
   "source": [
    "With a bootstrapping approach, we first shift both samples so that their means are equal. Then after getting many bootstrap replicates of the mean for each sample, we find the probability that the difference between female and male temperature in the bootstrapped distribution is greater than or equal to the difference that we actually observed in the original data. In this case, there is only a 0.010 chance of observing a difference that great, so we can conclude that there is likely a difference between female and male body temperatures."
   ]
  },
  {
   "cell_type": "code",
   "execution_count": 19,
   "metadata": {},
   "outputs": [
    {
     "name": "stdout",
     "output_type": "stream",
     "text": [
      "p-value =  0.0117\n"
     ]
    }
   ],
   "source": [
    "# Find the empirical difference of the means\n",
    "empirical_diff_means = np.mean(df[df.gender=='F'].temperature) - np.mean(df[df.gender=='M'].temperature)\n",
    "\n",
    "# Shift both samples so that they have the same mean\n",
    "male_shifted = df[df.gender=='M'].temperature - np.mean(df[df.gender=='M'].temperature) + np.mean(df.temperature)\n",
    "female_shifted = df[df.gender=='F'].temperature - np.mean(df[df.gender=='F'].temperature) + np.mean(df.temperature)\n",
    "\n",
    "# Compute 10,000 bootstrap replicates from the shifted arrays\n",
    "bs_replicates_male = draw_bs_reps(male_shifted, np.mean, size=10000)\n",
    "bs_replicates_female = draw_bs_reps(female_shifted, np.mean, size=10000)\n",
    "\n",
    "# Get replicates of difference of means\n",
    "bs_replicates = bs_replicates_female - bs_replicates_male\n",
    "\n",
    "# Compute and print p-value: p\n",
    "p = sum(bs_replicates >= empirical_diff_means) / 10000\n",
    "print('p-value = ',p)"
   ]
  },
  {
   "cell_type": "markdown",
   "metadata": {},
   "source": [
    "If using a frequentist statistics approach, we would perform a two sample test with the following hypotheses:\n",
    "- H0: mean male temp = mean female temp\n",
    "- H1: mean male temp != mean female temp\n",
    "\n",
    "We calculate the t statistic (see below) and compare it to the critical values for p = 0.05. In this case, t = 2.29 which is greater than the critical value 2.00, so we can reject the null hypothesis, H0."
   ]
  },
  {
   "cell_type": "code",
   "execution_count": 20,
   "metadata": {},
   "outputs": [
    {
     "name": "stdout",
     "output_type": "stream",
     "text": [
      "t0 =  2.285434538165274\n",
      "Critical values of t: -1.9977296536259734 ,  1.9977296536259734\n"
     ]
    }
   ],
   "source": [
    "male_n = len(df[df.gender=='M'].temperature)\n",
    "male_mean = np.mean(df[df.gender=='M'].temperature)\n",
    "male_std = np.std(df[df.gender=='M'].temperature, ddof=1)\n",
    "\n",
    "female_n = len(df[df.gender=='F'].temperature)\n",
    "female_mean = np.mean(df[df.gender=='F'].temperature)\n",
    "female_std = np.std(df[df.gender=='F'].temperature, ddof=1)\n",
    "\n",
    "# Calculate test statistic t0\n",
    "t0 = (female_mean - male_mean) / np.sqrt((female_std**2/female_n) + (male_std**2/male_n))\n",
    "print('t0 = ',t0)\n",
    "\n",
    "# Find critical values of t(0.025), which gives p = 0.05 (two-tailed)\n",
    "t_val = stats.t.ppf(1-0.025, female_n-1)\n",
    "print('Critical values of t:', -1*t_val,', ', t_val)"
   ]
  },
  {
   "cell_type": "markdown",
   "metadata": {},
   "source": [
    "### Discussion\n",
    "If the dataset provided here can be considered representative of the larger population, then it is reasonable to conclude that the traditionally-used value of 98.6 for normal body temperature may not be correct, and that the normal temperature may actually be a few tenths of a degree lower. It also appears that women have a statistically significant higher body temperature than men.\n",
    "\n",
    "This sex-based difference might point to a partial explanation of why the traditional value is higher. Women's body temperature rises slightly during pregnancy, and it is possible that Wunderlich's initial observations included some from pregnant women. In contrast, the data presented here were collected from volunteer subjects in vaccine trials; while the original article does not specify, it is unlikely that pregnant women were included in those trials. However it also seems unlikely that Wunderlich's data would contain *so* many more pregnant women than men that it would push the mean to the value that he obtained.\n",
    "\n",
    "An alternative explanation for the difference between studies is an instrumentation difference: the thermometer used by Wunderlich in the mid-1800's was certainly not the same as the digital electronic thermometer used by Mackowiak and colleagues in 1992. Since there is no way to compare the two thermometers, we can't really know that the measures are equivalent. "
   ]
  },
  {
   "cell_type": "code",
   "execution_count": null,
   "metadata": {},
   "outputs": [],
   "source": []
  }
 ],
 "metadata": {
  "kernelspec": {
   "display_name": "Python 3",
   "language": "python",
   "name": "python3"
  },
  "language_info": {
   "codemirror_mode": {
    "name": "ipython",
    "version": 3
   },
   "file_extension": ".py",
   "mimetype": "text/x-python",
   "name": "python",
   "nbconvert_exporter": "python",
   "pygments_lexer": "ipython3",
   "version": "3.6.5"
  }
 },
 "nbformat": 4,
 "nbformat_minor": 1
}
