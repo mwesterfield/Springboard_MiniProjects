{
 "cells": [
  {
   "cell_type": "markdown",
   "metadata": {},
   "source": [
    "# Examining Racial Discrimination in the US Job Market\n",
    "\n",
    "### Background\n",
    "Racial discrimination continues to be pervasive in cultures throughout the world. Researchers examined the level of racial discrimination in the United States labor market by randomly assigning identical résumés to black-sounding or white-sounding names and observing the impact on requests for interviews from employers.\n",
    "\n",
    "### Data\n",
    "In the dataset provided, each row represents a resume. The 'race' column has two values, 'b' and 'w', indicating black-sounding and white-sounding. The column 'call' has two values, 1 and 0, indicating whether the resume received a call from employers or not.\n",
    "\n",
    "Note that the 'b' and 'w' values in race are assigned randomly to the resumes when presented to the employer."
   ]
  },
  {
   "cell_type": "markdown",
   "metadata": {},
   "source": [
    "### Exercises\n",
    "You will perform a statistical analysis to establish whether race has a significant impact on the rate of callbacks for resumes.\n",
    "\n",
    "Answer the following questions **in this notebook below and submit to your Github account**. \n",
    "\n",
    "   1. What test is appropriate for this problem? Does CLT apply?\n",
    "   2. What are the null and alternate hypotheses?\n",
    "   3. Compute margin of error, confidence interval, and p-value. Try using both the bootstrapping and the frequentist statistical approaches.\n",
    "   4. Write a story describing the statistical significance in the context or the original problem.\n",
    "   5. Does your analysis mean that race/name is the most important factor in callback success? Why or why not? If not, how would you amend your analysis?\n",
    "\n",
    "You can include written notes in notebook cells using Markdown: \n",
    "   - In the control panel at the top, choose Cell > Cell Type > Markdown\n",
    "   - Markdown syntax: http://nestacms.com/docs/creating-content/markdown-cheat-sheet\n",
    "\n",
    "#### Resources\n",
    "+ Experiment information and data source: http://www.povertyactionlab.org/evaluation/discrimination-job-market-united-states\n",
    "+ Scipy statistical methods: http://docs.scipy.org/doc/scipy/reference/stats.html \n",
    "+ Markdown syntax: http://nestacms.com/docs/creating-content/markdown-cheat-sheet\n",
    "+ Formulas for the Bernoulli distribution: https://en.wikipedia.org/wiki/Bernoulli_distribution"
   ]
  },
  {
   "cell_type": "code",
   "execution_count": 1,
   "metadata": {},
   "outputs": [],
   "source": [
    "import pandas as pd\n",
    "import numpy as np\n",
    "from scipy import stats\n",
    "\n",
    "# Set random seed\n",
    "np.random.seed(17)"
   ]
  },
  {
   "cell_type": "code",
   "execution_count": 2,
   "metadata": {},
   "outputs": [],
   "source": [
    "data = pd.io.stata.read_stata('data/us_job_market_discrimination.dta')"
   ]
  },
  {
   "cell_type": "code",
   "execution_count": 3,
   "metadata": {},
   "outputs": [
    {
     "data": {
      "text/plain": [
       "157.0"
      ]
     },
     "execution_count": 3,
     "metadata": {},
     "output_type": "execute_result"
    }
   ],
   "source": [
    "# number of callbacks for black-sounding names\n",
    "sum(data[data.race=='b'].call)"
   ]
  },
  {
   "cell_type": "code",
   "execution_count": 4,
   "metadata": {},
   "outputs": [
    {
     "data": {
      "text/html": [
       "<div>\n",
       "<style scoped>\n",
       "    .dataframe tbody tr th:only-of-type {\n",
       "        vertical-align: middle;\n",
       "    }\n",
       "\n",
       "    .dataframe tbody tr th {\n",
       "        vertical-align: top;\n",
       "    }\n",
       "\n",
       "    .dataframe thead th {\n",
       "        text-align: right;\n",
       "    }\n",
       "</style>\n",
       "<table border=\"1\" class=\"dataframe\">\n",
       "  <thead>\n",
       "    <tr style=\"text-align: right;\">\n",
       "      <th></th>\n",
       "      <th>id</th>\n",
       "      <th>ad</th>\n",
       "      <th>education</th>\n",
       "      <th>ofjobs</th>\n",
       "      <th>yearsexp</th>\n",
       "      <th>honors</th>\n",
       "      <th>volunteer</th>\n",
       "      <th>military</th>\n",
       "      <th>empholes</th>\n",
       "      <th>occupspecific</th>\n",
       "      <th>...</th>\n",
       "      <th>compreq</th>\n",
       "      <th>orgreq</th>\n",
       "      <th>manuf</th>\n",
       "      <th>transcom</th>\n",
       "      <th>bankreal</th>\n",
       "      <th>trade</th>\n",
       "      <th>busservice</th>\n",
       "      <th>othservice</th>\n",
       "      <th>missind</th>\n",
       "      <th>ownership</th>\n",
       "    </tr>\n",
       "  </thead>\n",
       "  <tbody>\n",
       "    <tr>\n",
       "      <th>0</th>\n",
       "      <td>b</td>\n",
       "      <td>1</td>\n",
       "      <td>4</td>\n",
       "      <td>2</td>\n",
       "      <td>6</td>\n",
       "      <td>0</td>\n",
       "      <td>0</td>\n",
       "      <td>0</td>\n",
       "      <td>1</td>\n",
       "      <td>17</td>\n",
       "      <td>...</td>\n",
       "      <td>1.0</td>\n",
       "      <td>0.0</td>\n",
       "      <td>1.0</td>\n",
       "      <td>0.0</td>\n",
       "      <td>0.0</td>\n",
       "      <td>0.0</td>\n",
       "      <td>0.0</td>\n",
       "      <td>0.0</td>\n",
       "      <td>0.0</td>\n",
       "      <td></td>\n",
       "    </tr>\n",
       "    <tr>\n",
       "      <th>1</th>\n",
       "      <td>b</td>\n",
       "      <td>1</td>\n",
       "      <td>3</td>\n",
       "      <td>3</td>\n",
       "      <td>6</td>\n",
       "      <td>0</td>\n",
       "      <td>1</td>\n",
       "      <td>1</td>\n",
       "      <td>0</td>\n",
       "      <td>316</td>\n",
       "      <td>...</td>\n",
       "      <td>1.0</td>\n",
       "      <td>0.0</td>\n",
       "      <td>1.0</td>\n",
       "      <td>0.0</td>\n",
       "      <td>0.0</td>\n",
       "      <td>0.0</td>\n",
       "      <td>0.0</td>\n",
       "      <td>0.0</td>\n",
       "      <td>0.0</td>\n",
       "      <td></td>\n",
       "    </tr>\n",
       "    <tr>\n",
       "      <th>2</th>\n",
       "      <td>b</td>\n",
       "      <td>1</td>\n",
       "      <td>4</td>\n",
       "      <td>1</td>\n",
       "      <td>6</td>\n",
       "      <td>0</td>\n",
       "      <td>0</td>\n",
       "      <td>0</td>\n",
       "      <td>0</td>\n",
       "      <td>19</td>\n",
       "      <td>...</td>\n",
       "      <td>1.0</td>\n",
       "      <td>0.0</td>\n",
       "      <td>1.0</td>\n",
       "      <td>0.0</td>\n",
       "      <td>0.0</td>\n",
       "      <td>0.0</td>\n",
       "      <td>0.0</td>\n",
       "      <td>0.0</td>\n",
       "      <td>0.0</td>\n",
       "      <td></td>\n",
       "    </tr>\n",
       "    <tr>\n",
       "      <th>3</th>\n",
       "      <td>b</td>\n",
       "      <td>1</td>\n",
       "      <td>3</td>\n",
       "      <td>4</td>\n",
       "      <td>6</td>\n",
       "      <td>0</td>\n",
       "      <td>1</td>\n",
       "      <td>0</td>\n",
       "      <td>1</td>\n",
       "      <td>313</td>\n",
       "      <td>...</td>\n",
       "      <td>1.0</td>\n",
       "      <td>0.0</td>\n",
       "      <td>1.0</td>\n",
       "      <td>0.0</td>\n",
       "      <td>0.0</td>\n",
       "      <td>0.0</td>\n",
       "      <td>0.0</td>\n",
       "      <td>0.0</td>\n",
       "      <td>0.0</td>\n",
       "      <td></td>\n",
       "    </tr>\n",
       "    <tr>\n",
       "      <th>4</th>\n",
       "      <td>b</td>\n",
       "      <td>1</td>\n",
       "      <td>3</td>\n",
       "      <td>3</td>\n",
       "      <td>22</td>\n",
       "      <td>0</td>\n",
       "      <td>0</td>\n",
       "      <td>0</td>\n",
       "      <td>0</td>\n",
       "      <td>313</td>\n",
       "      <td>...</td>\n",
       "      <td>1.0</td>\n",
       "      <td>1.0</td>\n",
       "      <td>0.0</td>\n",
       "      <td>0.0</td>\n",
       "      <td>0.0</td>\n",
       "      <td>0.0</td>\n",
       "      <td>0.0</td>\n",
       "      <td>1.0</td>\n",
       "      <td>0.0</td>\n",
       "      <td>Nonprofit</td>\n",
       "    </tr>\n",
       "  </tbody>\n",
       "</table>\n",
       "<p>5 rows × 65 columns</p>\n",
       "</div>"
      ],
      "text/plain": [
       "  id ad  education  ofjobs  yearsexp  honors  volunteer  military  empholes  \\\n",
       "0  b  1          4       2         6       0          0         0         1   \n",
       "1  b  1          3       3         6       0          1         1         0   \n",
       "2  b  1          4       1         6       0          0         0         0   \n",
       "3  b  1          3       4         6       0          1         0         1   \n",
       "4  b  1          3       3        22       0          0         0         0   \n",
       "\n",
       "   occupspecific    ...      compreq  orgreq  manuf  transcom  bankreal trade  \\\n",
       "0             17    ...          1.0     0.0    1.0       0.0       0.0   0.0   \n",
       "1            316    ...          1.0     0.0    1.0       0.0       0.0   0.0   \n",
       "2             19    ...          1.0     0.0    1.0       0.0       0.0   0.0   \n",
       "3            313    ...          1.0     0.0    1.0       0.0       0.0   0.0   \n",
       "4            313    ...          1.0     1.0    0.0       0.0       0.0   0.0   \n",
       "\n",
       "  busservice othservice  missind  ownership  \n",
       "0        0.0        0.0      0.0             \n",
       "1        0.0        0.0      0.0             \n",
       "2        0.0        0.0      0.0             \n",
       "3        0.0        0.0      0.0             \n",
       "4        0.0        1.0      0.0  Nonprofit  \n",
       "\n",
       "[5 rows x 65 columns]"
      ]
     },
     "execution_count": 4,
     "metadata": {},
     "output_type": "execute_result"
    }
   ],
   "source": [
    "data.head()\n",
    "#data.info()"
   ]
  },
  {
   "cell_type": "markdown",
   "metadata": {
    "collapsed": true
   },
   "source": [
    "<div class=\"span5 alert alert-success\">\n",
    "<p>Your answers to Q1 and Q2 here</p>\n",
    "</div>"
   ]
  },
  {
   "cell_type": "markdown",
   "metadata": {},
   "source": [
    "### Q1. What test is appropriate for this problem? Does CLT apply?\n",
    "This is a test of two proportions from independent samples. Because there are only two possible outcomes per observation (callback vs. no callback), the data here follows a binomial (Bernoulli distribution). If the following requirements are met, the distribution of sample means from this population can be approximated by a normal distribution, and the CLT will apply. The CLT requirements are (see below for calculations):\n",
    "1. We have a sufficient number of successes and failures (check: np(1-p) >= 10)\n",
    "  - For 'white' applications, np(1-p) = 212 (yes, passes)\n",
    "  - For 'black' applications, np(1-p) = 147 (yes, passes)\n",
    "2. Sample size is no more than 5% of the population size\n",
    "  - n_samp = 2435 (for both samples)\n",
    "  - N_pop = really large (yes, passes)\n",
    "  \n",
    "The CLT does apply to this data."
   ]
  },
  {
   "cell_type": "code",
   "execution_count": 5,
   "metadata": {},
   "outputs": [
    {
     "name": "stdout",
     "output_type": "stream",
     "text": [
      "p_call_w = 0.1 , p_call_b = 0.06\n",
      "np(1-p) for \"white\" applications:  212.0\n",
      "np(1-p) for \"black\" applications:  147.0\n"
     ]
    }
   ],
   "source": [
    "w = data[data.race=='w']\n",
    "b = data[data.race=='b']\n",
    "\n",
    "# calculate callback rate for each sample\n",
    "p_call_w = sum(w.call) / len(w.call)\n",
    "p_call_b = sum(b.call) / len(b.call)\n",
    "print('p_call_w =', round(p_call_w, 2), ', p_call_b =', round(p_call_b, 2))\n",
    "\n",
    "# print success/failure check\n",
    "print('np(1-p) for \"white\" applications: ', round(len(w.call) * p_call_w * (1 - p_call_w), 0)) \n",
    "print('np(1-p) for \"black\" applications: ', round(len(b.call) * p_call_b * (1 - p_call_b), 0)) "
   ]
  },
  {
   "cell_type": "markdown",
   "metadata": {},
   "source": [
    "### Q2. What are the null and alternate hypotheses?\n",
    "The null and alternate hypotheses are:\n",
    "- H0: The callback percentage is not different between 'white-sounding' resumes and 'black-sounding' resumes\n",
    "- H1: The callback percentage is different for 'white-sounding' compared to 'black-sounding' resumes\n",
    "\n",
    "or:\n",
    "\n",
    "- H0: p_call_w = p_call_b (equivalent to p_call_w - p_call_b = 0)\n",
    "- H1: p_call_w != p_call_b (equivalent to p_call_w - p_call_b != 0)"
   ]
  },
  {
   "cell_type": "markdown",
   "metadata": {
    "collapsed": true
   },
   "source": [
    "<div class=\"span5 alert alert-success\">\n",
    "<p>Your solution to Q3 here (Compute margin of error, confidence interval, and p-value)</p>\n",
    "</div>"
   ]
  },
  {
   "cell_type": "markdown",
   "metadata": {},
   "source": [
    "### Q3. Compute margin of error, confidence interval, and p-value"
   ]
  },
  {
   "cell_type": "markdown",
   "metadata": {},
   "source": [
    "Using a frequentist approach (see calculations below), we see that if we set the p-value to 0.05 (two-tailed), the margin of error is 0.015. The observed difference between the two proportions is 0.032, so the 95% confidence interval around the difference is 0.017 to 0.047.\n",
    "\n",
    "Because the null hypothesis is that the difference between the two proportions is zero and the 95% confidence interval does *not* contain zero, there is sufficient evidence at the p = 0.05 level of significance that 'white-sounding' resumes receive a higher rate of callbacks than 'black-sounding' resumes."
   ]
  },
  {
   "cell_type": "code",
   "execution_count": 6,
   "metadata": {},
   "outputs": [
    {
     "name": "stdout",
     "output_type": "stream",
     "text": [
      "Difference between proportions: 0.032\n",
      "ME:  0.015\n",
      "Lower Bound:  0.017  Upper Bound:  0.047\n"
     ]
    }
   ],
   "source": [
    "# alpha is 0.05, so calculate z(0.025)\n",
    "stats.norm.ppf(.025)\n",
    "\n",
    "# calculate Mean Error\n",
    "ME = -1*stats.norm.ppf(.025) * np.sqrt((p_call_w*(1-p_call_w)/len(w)) + (p_call_b*(1-p_call_b)/len(b)))\n",
    "print('Difference between proportions:', round((p_call_w - p_call_b),3))\n",
    "print('ME: ', round(ME, 3))\n",
    "\n",
    "# Confidence interval\n",
    "print('Lower Bound: ', round((p_call_w - p_call_b) - ME, 3), \\\n",
    "     ' Upper Bound: ',round((p_call_w - p_call_b) + ME, 3))\n",
    "\n",
    "# This interval does not include zero, so it is plausible to think that more 'white' applicants\n",
    "# got callbacks than 'black' applicants (the p-value was set at p < 0.05)"
   ]
  },
  {
   "cell_type": "markdown",
   "metadata": {},
   "source": [
    "The bootstrapping approach (see below) uses the following steps:\n",
    "\n",
    "- Create two arrays which are the observations of calls (True) and no-calls (False) in the 'white-sounding' and 'black-sounding' samples\n",
    "- Generate many (10,000) replicates by\n",
    "  - Concatenating the two arrays, permuting, breaking up the permuted array into two arrays with the original sizes\n",
    "  - Calculating the test statistic (in this case, the proportion of 'black-sounding' applicants that got a callback) in each replicate\n",
    "- Calculate the probability of getting a proportion of callbacks at least as small as that of the observed proportion of callbacks for the original 'black-sounding' applicant sample\n",
    "\n",
    "The probability of observing observing a callback rate of 0.06 for the 'black' applicants if there were no real difference between 'white' and 'black' applicants is < 0.01. Therefore it is reasonable to conclude that the callback rates for 'white' and 'black' applicants in this study are not equal."
   ]
  },
  {
   "cell_type": "code",
   "execution_count": 7,
   "metadata": {},
   "outputs": [
    {
     "name": "stdout",
     "output_type": "stream",
     "text": [
      "p-value =  0.0014\n"
     ]
    }
   ],
   "source": [
    "# 'b' ratio = 157 yes / 2278 no; 'w' ratio = 235 yes / 2200 no\n",
    "w_applicants = np.array([True] * 235 + [False] * 2200)\n",
    "b_applicants = np.array([True] * 157 + [False] * 2278)\n",
    "\n",
    "## These are functions used for bootstrap tests ##\n",
    "def permutation_sample(data1, data2):\n",
    "    \"\"\"Generate a permutation sample from two data sets.\"\"\"\n",
    "    \n",
    "    # Concatenate the data sets: data\n",
    "    data = np.concatenate((data1, data2))\n",
    "    \n",
    "    # Permute the concatenated array: permuted_data\n",
    "    permuted_data = np.random.permutation(data)\n",
    "    \n",
    "    # Split the permuted array into two: perm_sample_1, perm_sample_2\n",
    "    perm_sample_1 = permuted_data[:len(data1)]\n",
    "    perm_sample_2 = permuted_data[len(data1):]\n",
    "    \n",
    "    return perm_sample_1, perm_sample_2\n",
    "\n",
    "def draw_perm_reps(data_1, data_2, func, size=1):\n",
    "    \"\"\"Generate multiple permutation replicates.\"\"\"\n",
    "    \n",
    "    # Initialize array of replicates: perm_replicates\n",
    "    perm_replicates = np.empty(size)\n",
    "    \n",
    "    for i in range(size):\n",
    "        # Generate permutation sample\n",
    "        perm_sample_1, perm_sample_2 = permutation_sample(data_1, data_2)\n",
    "        \n",
    "        # Compute the test statistic\n",
    "        perm_replicates[i] = func(perm_sample_1, perm_sample_2)\n",
    "        \n",
    "    return perm_replicates\n",
    "\n",
    "## This is the function that will be used to generate ##\n",
    "## the statistic from within the bootstrap tests      ##\n",
    "def frac_call_blacks(b_applicants, w_applicants):\n",
    "    \"Calculate fraction of callbacks to black applicants.\"\"\"\n",
    "    frac = sum(b_applicants) / len(b_applicants)\n",
    "    return frac\n",
    "\n",
    "# Draw many permutation samples: perm_replicates\n",
    "perm_replicates = draw_perm_reps(w_applicants, b_applicants, frac_call_blacks, size=10000)\n",
    "\n",
    "# Compute and print p-value: p\n",
    "p = np.sum(perm_replicates <= 157/2278) / len(perm_replicates)\n",
    "print('p-value = ',p)"
   ]
  },
  {
   "cell_type": "markdown",
   "metadata": {},
   "source": [
    "<div class=\"span5 alert alert-success\">\n",
    "<p> Your answers to Q4 and Q5 here </p>\n",
    "</div>"
   ]
  },
  {
   "cell_type": "markdown",
   "metadata": {
    "collapsed": true
   },
   "source": [
    "### Q4. Write a story describing the statistical significance in the context of the original problem."
   ]
  },
  {
   "cell_type": "markdown",
   "metadata": {},
   "source": [
    "In the data from the Bertrand & Mullainathan study, potential employers were sent resumes from (fictional) applicants with black- and white-sounding names, and the researchers recorded whether or not the applicant was selected for an interview. Whereas 9.6% of 'white' applicants were selected for an interview, only 6.4% of the 'black' applicants were selected. Both the bootstrap and frequentist analyses above indicate that this difference is real, and unlikely to have occurred by chance. Because the researchers controlled for other factors (by sending both high and low quality resumes from both 'black' and 'white' applicants to each employer), it is plausible that it is the applicant's perceived race itself that directly impacts the callback rate. If this study is an accurate representation of how  employers truly behave when selecting potential job candidates, this result shows that there is a tangible cost to having a 'black' sounding name. Three fewer black applicants per hundred are selected for interviews than white candidates. "
   ]
  },
  {
   "cell_type": "markdown",
   "metadata": {},
   "source": [
    "### Q5. Does your analysis mean that race/name is the most important factor in callback success? Why or why not? If not, how would you amend your analysis?"
   ]
  },
  {
   "cell_type": "markdown",
   "metadata": {},
   "source": [
    "While race (inferred from applicant name) appears to be a factor in callback success, this analysis does not establish that race is the only or most important factor. The Betrand & Mullainathan study involved sending 'high quality' and 'low quality' resumes to potential employers, and presumably the factors that contributed to a 'high quality' resume should also have been important to callback success. In fact, doing a median split on an individual factor and then calculating the callback proportion for the high and low subgroups (not shown) indicates that higher callback rates may be associated with more years of experience, with higher 'occupation specific' scores, and with higher 'occupation-broad' scores (I did not actually test whether these varying scores significantly affected callback rates).\n",
    "\n",
    "I think it is likely that race interacts with other factors to affect callback rate. A full analysis would identify other influential factors and then examine whether race modifies their effect on callback rate."
   ]
  },
  {
   "cell_type": "code",
   "execution_count": null,
   "metadata": {},
   "outputs": [],
   "source": []
  }
 ],
 "metadata": {
  "kernelspec": {
   "display_name": "Python 3",
   "language": "python",
   "name": "python3"
  },
  "language_info": {
   "codemirror_mode": {
    "name": "ipython",
    "version": 3
   },
   "file_extension": ".py",
   "mimetype": "text/x-python",
   "name": "python",
   "nbconvert_exporter": "python",
   "pygments_lexer": "ipython3",
   "version": "3.6.5"
  }
 },
 "nbformat": 4,
 "nbformat_minor": 1
}
